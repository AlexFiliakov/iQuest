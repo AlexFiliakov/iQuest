{
 "cells": [
  {
   "cell_type": "code",
   "execution_count": null,
   "metadata": {},
   "outputs": [],
   "source": [
    "import xml.etree.ElementTree as ET\n",
    "import pandas as pd\n",
    "import datetime as dt\n",
    "\n",
    "health_path = r'C:\\Users\\alexf\\OneDrive\\Documents\\Projects\\Apple Health Exports\\raw data\\AppleHealth-2025-05-24\\apple_health_export\\export.xml'\n",
    "\n",
    "# create element tree object\n",
    "tree = ET.parse(health_path) \n",
    "# for every health record, extract the attributes\n",
    "root = tree.getroot()\n",
    "record_list = [x.attrib for x in root.iter('Record')]\n",
    "\n"
   ]
  },
  {
   "cell_type": "code",
   "execution_count": null,
   "metadata": {},
   "outputs": [
    {
     "data": {
      "application/vnd.microsoft.datawrangler.viewer.v0+json": {
       "columns": [
        {
         "name": "index",
         "rawType": "int64",
         "type": "integer"
        },
        {
         "name": "type",
         "rawType": "object",
         "type": "string"
        },
        {
         "name": "sourceName",
         "rawType": "object",
         "type": "string"
        },
        {
         "name": "sourceVersion",
         "rawType": "object",
         "type": "string"
        },
        {
         "name": "unit",
         "rawType": "object",
         "type": "string"
        },
        {
         "name": "creationDate",
         "rawType": "datetime64[ns, UTC-04:00]",
         "type": "unknown"
        },
        {
         "name": "startDate",
         "rawType": "datetime64[ns, UTC-04:00]",
         "type": "unknown"
        },
        {
         "name": "endDate",
         "rawType": "datetime64[ns, UTC-04:00]",
         "type": "unknown"
        },
        {
         "name": "value",
         "rawType": "float64",
         "type": "float"
        },
        {
         "name": "device",
         "rawType": "object",
         "type": "unknown"
        }
       ],
       "ref": "7921f354-6835-4483-8d93-3f6bc282182e",
       "rows": [
        [
         "798787",
         "BloodPressureDiastolic",
         "iHealth",
         "11",
         "mmHg",
         "2025-05-23 20:35:23-04:00",
         "2025-05-23 20:34:47-04:00",
         "2025-05-23 20:34:47-04:00",
         "83.0",
         null
        ],
        [
         "798788",
         "BloodPressureDiastolic",
         "iHealth",
         "11",
         "mmHg",
         "2025-05-23 20:44:04-04:00",
         "2025-05-23 20:43:09-04:00",
         "2025-05-23 20:43:09-04:00",
         "81.0",
         null
        ],
        [
         "798789",
         "BloodPressureSystolic",
         "iHealth",
         "11",
         "mmHg",
         "2025-05-23 20:44:04-04:00",
         "2025-05-23 20:43:09-04:00",
         "2025-05-23 20:43:09-04:00",
         "137.0",
         null
        ],
        [
         "798790",
         "BloodPressureSystolic",
         "iHealth",
         "11",
         "mmHg",
         "2025-05-24 14:56:17-04:00",
         "2025-05-24 14:55:53-04:00",
         "2025-05-24 14:55:53-04:00",
         "154.0",
         null
        ],
        [
         "798791",
         "BloodPressureDiastolic",
         "iHealth",
         "11",
         "mmHg",
         "2025-05-24 14:56:17-04:00",
         "2025-05-24 14:55:53-04:00",
         "2025-05-24 14:55:53-04:00",
         "78.0",
         null
        ]
       ],
       "shape": {
        "columns": 9,
        "rows": 5
       }
      },
      "text/html": [
       "<div>\n",
       "<style scoped>\n",
       "    .dataframe tbody tr th:only-of-type {\n",
       "        vertical-align: middle;\n",
       "    }\n",
       "\n",
       "    .dataframe tbody tr th {\n",
       "        vertical-align: top;\n",
       "    }\n",
       "\n",
       "    .dataframe thead th {\n",
       "        text-align: right;\n",
       "    }\n",
       "</style>\n",
       "<table border=\"1\" class=\"dataframe\">\n",
       "  <thead>\n",
       "    <tr style=\"text-align: right;\">\n",
       "      <th></th>\n",
       "      <th>type</th>\n",
       "      <th>sourceName</th>\n",
       "      <th>sourceVersion</th>\n",
       "      <th>unit</th>\n",
       "      <th>creationDate</th>\n",
       "      <th>startDate</th>\n",
       "      <th>endDate</th>\n",
       "      <th>value</th>\n",
       "      <th>device</th>\n",
       "    </tr>\n",
       "  </thead>\n",
       "  <tbody>\n",
       "    <tr>\n",
       "      <th>798787</th>\n",
       "      <td>BloodPressureDiastolic</td>\n",
       "      <td>iHealth</td>\n",
       "      <td>11</td>\n",
       "      <td>mmHg</td>\n",
       "      <td>2025-05-23 20:35:23-04:00</td>\n",
       "      <td>2025-05-23 20:34:47-04:00</td>\n",
       "      <td>2025-05-23 20:34:47-04:00</td>\n",
       "      <td>83.0</td>\n",
       "      <td>NaN</td>\n",
       "    </tr>\n",
       "    <tr>\n",
       "      <th>798788</th>\n",
       "      <td>BloodPressureDiastolic</td>\n",
       "      <td>iHealth</td>\n",
       "      <td>11</td>\n",
       "      <td>mmHg</td>\n",
       "      <td>2025-05-23 20:44:04-04:00</td>\n",
       "      <td>2025-05-23 20:43:09-04:00</td>\n",
       "      <td>2025-05-23 20:43:09-04:00</td>\n",
       "      <td>81.0</td>\n",
       "      <td>NaN</td>\n",
       "    </tr>\n",
       "    <tr>\n",
       "      <th>798789</th>\n",
       "      <td>BloodPressureSystolic</td>\n",
       "      <td>iHealth</td>\n",
       "      <td>11</td>\n",
       "      <td>mmHg</td>\n",
       "      <td>2025-05-23 20:44:04-04:00</td>\n",
       "      <td>2025-05-23 20:43:09-04:00</td>\n",
       "      <td>2025-05-23 20:43:09-04:00</td>\n",
       "      <td>137.0</td>\n",
       "      <td>NaN</td>\n",
       "    </tr>\n",
       "    <tr>\n",
       "      <th>798790</th>\n",
       "      <td>BloodPressureSystolic</td>\n",
       "      <td>iHealth</td>\n",
       "      <td>11</td>\n",
       "      <td>mmHg</td>\n",
       "      <td>2025-05-24 14:56:17-04:00</td>\n",
       "      <td>2025-05-24 14:55:53-04:00</td>\n",
       "      <td>2025-05-24 14:55:53-04:00</td>\n",
       "      <td>154.0</td>\n",
       "      <td>NaN</td>\n",
       "    </tr>\n",
       "    <tr>\n",
       "      <th>798791</th>\n",
       "      <td>BloodPressureDiastolic</td>\n",
       "      <td>iHealth</td>\n",
       "      <td>11</td>\n",
       "      <td>mmHg</td>\n",
       "      <td>2025-05-24 14:56:17-04:00</td>\n",
       "      <td>2025-05-24 14:55:53-04:00</td>\n",
       "      <td>2025-05-24 14:55:53-04:00</td>\n",
       "      <td>78.0</td>\n",
       "      <td>NaN</td>\n",
       "    </tr>\n",
       "  </tbody>\n",
       "</table>\n",
       "</div>"
      ],
      "text/plain": [
       "                          type sourceName sourceVersion  unit  \\\n",
       "798787  BloodPressureDiastolic    iHealth            11  mmHg   \n",
       "798788  BloodPressureDiastolic    iHealth            11  mmHg   \n",
       "798789   BloodPressureSystolic    iHealth            11  mmHg   \n",
       "798790   BloodPressureSystolic    iHealth            11  mmHg   \n",
       "798791  BloodPressureDiastolic    iHealth            11  mmHg   \n",
       "\n",
       "                    creationDate                 startDate  \\\n",
       "798787 2025-05-23 20:35:23-04:00 2025-05-23 20:34:47-04:00   \n",
       "798788 2025-05-23 20:44:04-04:00 2025-05-23 20:43:09-04:00   \n",
       "798789 2025-05-23 20:44:04-04:00 2025-05-23 20:43:09-04:00   \n",
       "798790 2025-05-24 14:56:17-04:00 2025-05-24 14:55:53-04:00   \n",
       "798791 2025-05-24 14:56:17-04:00 2025-05-24 14:55:53-04:00   \n",
       "\n",
       "                         endDate  value device  \n",
       "798787 2025-05-23 20:34:47-04:00   83.0    NaN  \n",
       "798788 2025-05-23 20:43:09-04:00   81.0    NaN  \n",
       "798789 2025-05-23 20:43:09-04:00  137.0    NaN  \n",
       "798790 2025-05-24 14:55:53-04:00  154.0    NaN  \n",
       "798791 2025-05-24 14:55:53-04:00   78.0    NaN  "
      ]
     },
     "execution_count": 2,
     "metadata": {},
     "output_type": "execute_result"
    }
   ],
   "source": [
    "record_data = pd.DataFrame(record_list)\n",
    "\n",
    "# proper type to dates\n",
    "for col in ['creationDate', 'startDate', 'endDate']:\n",
    "    record_data[col] = pd.to_datetime(record_data[col])\n",
    "\n",
    "# value is numeric, NaN if fails\n",
    "record_data['value'] = pd.to_numeric(record_data['value'], errors='coerce')\n",
    "\n",
    "# some records do not measure anything, just count occurences\n",
    "# filling with 1.0 (= one time) makes it easier to aggregate\n",
    "record_data['value'] = record_data['value'].fillna(1.0)\n",
    "\n",
    "# shorter observation names\n",
    "record_data['type'] = record_data['type'].str.replace('HKQuantityTypeIdentifier', '')\n",
    "record_data['type'] = record_data['type'].str.replace('HKCategoryTypeIdentifier', '')\n",
    "record_data.tail()"
   ]
  },
  {
   "cell_type": "code",
   "execution_count": null,
   "metadata": {},
   "outputs": [
    {
     "data": {
      "text/plain": [
       "array(['DietaryWater', 'BodyMassIndex', 'Height', 'BodyMass', 'HeartRate',\n",
       "       'BloodPressureSystolic', 'BloodPressureDiastolic',\n",
       "       'RespiratoryRate', 'BodyFatPercentage', 'LeanBodyMass',\n",
       "       'StepCount', 'DistanceWalkingRunning', 'BasalEnergyBurned',\n",
       "       'ActiveEnergyBurned', 'FlightsClimbed', 'DietaryFatTotal',\n",
       "       'DietaryFatPolyunsaturated', 'DietaryFatMonounsaturated',\n",
       "       'DietaryFatSaturated', 'DietaryCholesterol', 'DietarySodium',\n",
       "       'DietaryCarbohydrates', 'DietaryFiber', 'DietarySugar',\n",
       "       'DietaryEnergyConsumed', 'DietaryProtein', 'DietaryVitaminC',\n",
       "       'DietaryCalcium', 'DietaryIron', 'DietaryPotassium',\n",
       "       'HeadphoneAudioExposure', 'WalkingDoubleSupportPercentage',\n",
       "       'WalkingSpeed', 'WalkingStepLength', 'WalkingAsymmetryPercentage',\n",
       "       'HKDataTypeSleepDurationGoal', 'AppleWalkingSteadiness',\n",
       "       'SleepAnalysis', 'MindfulSession'], dtype=object)"
      ]
     },
     "execution_count": 3,
     "metadata": {},
     "output_type": "execute_result"
    }
   ],
   "source": [
    "record_data['type'].unique()"
   ]
  },
  {
   "cell_type": "code",
   "execution_count": null,
   "metadata": {},
   "outputs": [
    {
     "name": "stderr",
     "output_type": "stream",
     "text": [
      "C:\\Users\\alexf\\AppData\\Local\\Temp\\ipykernel_37296\\1510404318.py:20: SettingWithCopyWarning: \n",
      "A value is trying to be set on a copy of a slice from a DataFrame.\n",
      "Try using .loc[row_indexer,col_indexer] = value instead\n",
      "\n",
      "See the caveats in the documentation: https://pandas.pydata.org/pandas-docs/stable/user_guide/indexing.html#returning-a-view-versus-a-copy\n",
      "  subset_data['creationDate'] = pd.to_datetime(subset_data['creationDate'])\n"
     ]
    }
   ],
   "source": [
    "# Subset for 2024 only\n",
    "subset_data = record_data[\n",
    "    (record_data['startDate'] >= '2025-03-01') &\n",
    "    (record_data['startDate'] <= '2025-04-30')\n",
    "]\n",
    "\n",
    "# # Filter only record types of interest\n",
    "# type_values_to_analyze = ['BodyMass', 'HeartRate',\n",
    "#        'RespiratoryRate', 'BodyFatPercentage', 'LeanBodyMass',\n",
    "#        'StepCount', 'DistanceWalkingRunning', 'BasalEnergyBurned',\n",
    "#        'ActiveEnergyBurned', 'FlightsClimbed', \n",
    "#        'DietaryEnergyConsumed', 'WalkingDoubleSupportPercentage',\n",
    "#        'WalkingSpeed', 'WalkingStepLength', 'WalkingAsymmetryPercentage',\n",
    "#        'HKDataTypeSleepDurationGoal', 'AppleWalkingSteadiness',\n",
    "#        'SleepAnalysis', 'MindfulSession']\n",
    "\n",
    "# subset_data = subset_data[subset_data['type'].isin(type_values_to_analyze)]\n",
    "\n",
    "# Convert 'startDate' to datetime\n",
    "subset_data['startDate'] = pd.to_datetime(subset_data['startDate'])\n"
   ]
  },
  {
   "cell_type": "code",
   "execution_count": null,
   "metadata": {},
   "outputs": [
    {
     "data": {
      "text/plain": [
       "array(['Renpho Health', 'MyFitnessPal', 'Oura', 'CASIO WATCHES',\n",
       "       'Alex’s iPhone', 'Runkeeper', 'TM'], dtype=object)"
      ]
     },
     "execution_count": 17,
     "metadata": {},
     "output_type": "execute_result"
    }
   ],
   "source": [
    "subset_data['sourceName'].unique()"
   ]
  },
  {
   "cell_type": "code",
   "execution_count": null,
   "metadata": {},
   "outputs": [
    {
     "data": {
      "text/plain": [
       "Timestamp('2025-03-01 00:01:14-0400', tz='UTC-04:00')"
      ]
     },
     "execution_count": 18,
     "metadata": {},
     "output_type": "execute_result"
    }
   ],
   "source": [
    "subset_data['startDate'].min()"
   ]
  },
  {
   "cell_type": "code",
   "execution_count": null,
   "metadata": {},
   "outputs": [
    {
     "name": "stderr",
     "output_type": "stream",
     "text": [
      "C:\\Users\\alexf\\AppData\\Local\\Temp\\ipykernel_37296\\2023864367.py:1: SettingWithCopyWarning: \n",
      "A value is trying to be set on a copy of a slice from a DataFrame.\n",
      "Try using .loc[row_indexer,col_indexer] = value instead\n",
      "\n",
      "See the caveats in the documentation: https://pandas.pydata.org/pandas-docs/stable/user_guide/indexing.html#returning-a-view-versus-a-copy\n",
      "  subset_data['sourceName'] = subset_data['sourceName'].replace('Renpho Health', 'Renpho')\n",
      "C:\\Users\\alexf\\AppData\\Local\\Temp\\ipykernel_37296\\2023864367.py:2: SettingWithCopyWarning: \n",
      "A value is trying to be set on a copy of a slice from a DataFrame.\n",
      "Try using .loc[row_indexer,col_indexer] = value instead\n",
      "\n",
      "See the caveats in the documentation: https://pandas.pydata.org/pandas-docs/stable/user_guide/indexing.html#returning-a-view-versus-a-copy\n",
      "  subset_data['sourceName'] = subset_data['sourceName'].replace('Alex’s iPhone', 'iPhone')\n"
     ]
    }
   ],
   "source": [
    "subset_data['sourceName'] = subset_data['sourceName'].replace('Renpho Health', 'Renpho')\n",
    "subset_data['sourceName'] = subset_data['sourceName'].replace('Alex’s iPhone', 'iPhone')"
   ]
  },
  {
   "cell_type": "code",
   "execution_count": null,
   "metadata": {},
   "outputs": [
    {
     "data": {
      "application/vnd.microsoft.datawrangler.viewer.v0+json": {
       "columns": [
        {
         "name": "index",
         "rawType": "int64",
         "type": "integer"
        },
        {
         "name": "type",
         "rawType": "object",
         "type": "string"
        },
        {
         "name": "sourceName",
         "rawType": "object",
         "type": "string"
        }
       ],
       "ref": "6c4ea9ed-bd6b-4b0f-a4b5-12ae18c0b79c",
       "rows": [
        [
         "1251",
         "BodyMassIndex",
         "Renpho"
        ],
        [
         "1582",
         "BodyMass",
         "Renpho"
        ],
        [
         "1585",
         "BodyMass",
         "MyFitnessPal"
        ],
        [
         "201328",
         "HeartRate",
         "Oura"
        ],
        [
         "211895",
         "HeartRate",
         "CASIO WATCHES"
        ],
        [
         "264032",
         "RespiratoryRate",
         "Oura"
        ],
        [
         "264314",
         "BodyFatPercentage",
         "Renpho"
        ],
        [
         "264397",
         "LeanBodyMass",
         "Renpho"
        ],
        [
         "345810",
         "StepCount",
         "iPhone"
        ],
        [
         "345813",
         "StepCount",
         "Oura"
        ],
        [
         "349870",
         "StepCount",
         "CASIO WATCHES"
        ],
        [
         "445836",
         "DistanceWalkingRunning",
         "iPhone"
        ],
        [
         "447165",
         "DistanceWalkingRunning",
         "Runkeeper"
        ],
        [
         "486609",
         "BasalEnergyBurned",
         "iPhone"
        ],
        [
         "487171",
         "BasalEnergyBurned",
         "Renpho"
        ],
        [
         "578851",
         "ActiveEnergyBurned",
         "iPhone"
        ],
        [
         "578853",
         "ActiveEnergyBurned",
         "Oura"
        ],
        [
         "593001",
         "ActiveEnergyBurned",
         "Runkeeper"
        ],
        [
         "601587",
         "FlightsClimbed",
         "iPhone"
        ],
        [
         "601840",
         "DietaryFatTotal",
         "MyFitnessPal"
        ],
        [
         "602051",
         "DietaryFatPolyunsaturated",
         "MyFitnessPal"
        ],
        [
         "602262",
         "DietaryFatMonounsaturated",
         "MyFitnessPal"
        ],
        [
         "602473",
         "DietaryFatSaturated",
         "MyFitnessPal"
        ],
        [
         "602684",
         "DietaryCholesterol",
         "MyFitnessPal"
        ],
        [
         "602895",
         "DietarySodium",
         "MyFitnessPal"
        ],
        [
         "603106",
         "DietaryCarbohydrates",
         "MyFitnessPal"
        ],
        [
         "603317",
         "DietaryFiber",
         "MyFitnessPal"
        ],
        [
         "603528",
         "DietarySugar",
         "MyFitnessPal"
        ],
        [
         "603739",
         "DietaryEnergyConsumed",
         "MyFitnessPal"
        ],
        [
         "603950",
         "DietaryProtein",
         "MyFitnessPal"
        ],
        [
         "604161",
         "DietaryVitaminC",
         "MyFitnessPal"
        ],
        [
         "604372",
         "DietaryCalcium",
         "MyFitnessPal"
        ],
        [
         "604583",
         "DietaryIron",
         "MyFitnessPal"
        ],
        [
         "604794",
         "DietaryPotassium",
         "MyFitnessPal"
        ],
        [
         "630503",
         "HeadphoneAudioExposure",
         "iPhone"
        ],
        [
         "663674",
         "WalkingDoubleSupportPercentage",
         "iPhone"
        ],
        [
         "701676",
         "WalkingSpeed",
         "iPhone"
        ],
        [
         "739883",
         "WalkingStepLength",
         "iPhone"
        ],
        [
         "762456",
         "WalkingAsymmetryPercentage",
         "iPhone"
        ],
        [
         "763650",
         "AppleWalkingSteadiness",
         "iPhone"
        ],
        [
         "790702",
         "SleepAnalysis",
         "Oura"
        ],
        [
         "798647",
         "MindfulSession",
         "TM"
        ]
       ],
       "shape": {
        "columns": 2,
        "rows": 42
       }
      },
      "text/html": [
       "<div>\n",
       "<style scoped>\n",
       "    .dataframe tbody tr th:only-of-type {\n",
       "        vertical-align: middle;\n",
       "    }\n",
       "\n",
       "    .dataframe tbody tr th {\n",
       "        vertical-align: top;\n",
       "    }\n",
       "\n",
       "    .dataframe thead th {\n",
       "        text-align: right;\n",
       "    }\n",
       "</style>\n",
       "<table border=\"1\" class=\"dataframe\">\n",
       "  <thead>\n",
       "    <tr style=\"text-align: right;\">\n",
       "      <th></th>\n",
       "      <th>type</th>\n",
       "      <th>sourceName</th>\n",
       "    </tr>\n",
       "  </thead>\n",
       "  <tbody>\n",
       "    <tr>\n",
       "      <th>1251</th>\n",
       "      <td>BodyMassIndex</td>\n",
       "      <td>Renpho</td>\n",
       "    </tr>\n",
       "    <tr>\n",
       "      <th>1582</th>\n",
       "      <td>BodyMass</td>\n",
       "      <td>Renpho</td>\n",
       "    </tr>\n",
       "    <tr>\n",
       "      <th>1585</th>\n",
       "      <td>BodyMass</td>\n",
       "      <td>MyFitnessPal</td>\n",
       "    </tr>\n",
       "    <tr>\n",
       "      <th>201328</th>\n",
       "      <td>HeartRate</td>\n",
       "      <td>Oura</td>\n",
       "    </tr>\n",
       "    <tr>\n",
       "      <th>211895</th>\n",
       "      <td>HeartRate</td>\n",
       "      <td>CASIO WATCHES</td>\n",
       "    </tr>\n",
       "    <tr>\n",
       "      <th>264032</th>\n",
       "      <td>RespiratoryRate</td>\n",
       "      <td>Oura</td>\n",
       "    </tr>\n",
       "    <tr>\n",
       "      <th>264314</th>\n",
       "      <td>BodyFatPercentage</td>\n",
       "      <td>Renpho</td>\n",
       "    </tr>\n",
       "    <tr>\n",
       "      <th>264397</th>\n",
       "      <td>LeanBodyMass</td>\n",
       "      <td>Renpho</td>\n",
       "    </tr>\n",
       "    <tr>\n",
       "      <th>345810</th>\n",
       "      <td>StepCount</td>\n",
       "      <td>iPhone</td>\n",
       "    </tr>\n",
       "    <tr>\n",
       "      <th>345813</th>\n",
       "      <td>StepCount</td>\n",
       "      <td>Oura</td>\n",
       "    </tr>\n",
       "    <tr>\n",
       "      <th>349870</th>\n",
       "      <td>StepCount</td>\n",
       "      <td>CASIO WATCHES</td>\n",
       "    </tr>\n",
       "    <tr>\n",
       "      <th>445836</th>\n",
       "      <td>DistanceWalkingRunning</td>\n",
       "      <td>iPhone</td>\n",
       "    </tr>\n",
       "    <tr>\n",
       "      <th>447165</th>\n",
       "      <td>DistanceWalkingRunning</td>\n",
       "      <td>Runkeeper</td>\n",
       "    </tr>\n",
       "    <tr>\n",
       "      <th>486609</th>\n",
       "      <td>BasalEnergyBurned</td>\n",
       "      <td>iPhone</td>\n",
       "    </tr>\n",
       "    <tr>\n",
       "      <th>487171</th>\n",
       "      <td>BasalEnergyBurned</td>\n",
       "      <td>Renpho</td>\n",
       "    </tr>\n",
       "    <tr>\n",
       "      <th>578851</th>\n",
       "      <td>ActiveEnergyBurned</td>\n",
       "      <td>iPhone</td>\n",
       "    </tr>\n",
       "    <tr>\n",
       "      <th>578853</th>\n",
       "      <td>ActiveEnergyBurned</td>\n",
       "      <td>Oura</td>\n",
       "    </tr>\n",
       "    <tr>\n",
       "      <th>593001</th>\n",
       "      <td>ActiveEnergyBurned</td>\n",
       "      <td>Runkeeper</td>\n",
       "    </tr>\n",
       "    <tr>\n",
       "      <th>601587</th>\n",
       "      <td>FlightsClimbed</td>\n",
       "      <td>iPhone</td>\n",
       "    </tr>\n",
       "    <tr>\n",
       "      <th>601840</th>\n",
       "      <td>DietaryFatTotal</td>\n",
       "      <td>MyFitnessPal</td>\n",
       "    </tr>\n",
       "    <tr>\n",
       "      <th>602051</th>\n",
       "      <td>DietaryFatPolyunsaturated</td>\n",
       "      <td>MyFitnessPal</td>\n",
       "    </tr>\n",
       "    <tr>\n",
       "      <th>602262</th>\n",
       "      <td>DietaryFatMonounsaturated</td>\n",
       "      <td>MyFitnessPal</td>\n",
       "    </tr>\n",
       "    <tr>\n",
       "      <th>602473</th>\n",
       "      <td>DietaryFatSaturated</td>\n",
       "      <td>MyFitnessPal</td>\n",
       "    </tr>\n",
       "    <tr>\n",
       "      <th>602684</th>\n",
       "      <td>DietaryCholesterol</td>\n",
       "      <td>MyFitnessPal</td>\n",
       "    </tr>\n",
       "    <tr>\n",
       "      <th>602895</th>\n",
       "      <td>DietarySodium</td>\n",
       "      <td>MyFitnessPal</td>\n",
       "    </tr>\n",
       "    <tr>\n",
       "      <th>603106</th>\n",
       "      <td>DietaryCarbohydrates</td>\n",
       "      <td>MyFitnessPal</td>\n",
       "    </tr>\n",
       "    <tr>\n",
       "      <th>603317</th>\n",
       "      <td>DietaryFiber</td>\n",
       "      <td>MyFitnessPal</td>\n",
       "    </tr>\n",
       "    <tr>\n",
       "      <th>603528</th>\n",
       "      <td>DietarySugar</td>\n",
       "      <td>MyFitnessPal</td>\n",
       "    </tr>\n",
       "    <tr>\n",
       "      <th>603739</th>\n",
       "      <td>DietaryEnergyConsumed</td>\n",
       "      <td>MyFitnessPal</td>\n",
       "    </tr>\n",
       "    <tr>\n",
       "      <th>603950</th>\n",
       "      <td>DietaryProtein</td>\n",
       "      <td>MyFitnessPal</td>\n",
       "    </tr>\n",
       "    <tr>\n",
       "      <th>604161</th>\n",
       "      <td>DietaryVitaminC</td>\n",
       "      <td>MyFitnessPal</td>\n",
       "    </tr>\n",
       "    <tr>\n",
       "      <th>604372</th>\n",
       "      <td>DietaryCalcium</td>\n",
       "      <td>MyFitnessPal</td>\n",
       "    </tr>\n",
       "    <tr>\n",
       "      <th>604583</th>\n",
       "      <td>DietaryIron</td>\n",
       "      <td>MyFitnessPal</td>\n",
       "    </tr>\n",
       "    <tr>\n",
       "      <th>604794</th>\n",
       "      <td>DietaryPotassium</td>\n",
       "      <td>MyFitnessPal</td>\n",
       "    </tr>\n",
       "    <tr>\n",
       "      <th>630503</th>\n",
       "      <td>HeadphoneAudioExposure</td>\n",
       "      <td>iPhone</td>\n",
       "    </tr>\n",
       "    <tr>\n",
       "      <th>663674</th>\n",
       "      <td>WalkingDoubleSupportPercentage</td>\n",
       "      <td>iPhone</td>\n",
       "    </tr>\n",
       "    <tr>\n",
       "      <th>701676</th>\n",
       "      <td>WalkingSpeed</td>\n",
       "      <td>iPhone</td>\n",
       "    </tr>\n",
       "    <tr>\n",
       "      <th>739883</th>\n",
       "      <td>WalkingStepLength</td>\n",
       "      <td>iPhone</td>\n",
       "    </tr>\n",
       "    <tr>\n",
       "      <th>762456</th>\n",
       "      <td>WalkingAsymmetryPercentage</td>\n",
       "      <td>iPhone</td>\n",
       "    </tr>\n",
       "    <tr>\n",
       "      <th>763650</th>\n",
       "      <td>AppleWalkingSteadiness</td>\n",
       "      <td>iPhone</td>\n",
       "    </tr>\n",
       "    <tr>\n",
       "      <th>790702</th>\n",
       "      <td>SleepAnalysis</td>\n",
       "      <td>Oura</td>\n",
       "    </tr>\n",
       "    <tr>\n",
       "      <th>798647</th>\n",
       "      <td>MindfulSession</td>\n",
       "      <td>TM</td>\n",
       "    </tr>\n",
       "  </tbody>\n",
       "</table>\n",
       "</div>"
      ],
      "text/plain": [
       "                                  type     sourceName\n",
       "1251                     BodyMassIndex         Renpho\n",
       "1582                          BodyMass         Renpho\n",
       "1585                          BodyMass   MyFitnessPal\n",
       "201328                       HeartRate           Oura\n",
       "211895                       HeartRate  CASIO WATCHES\n",
       "264032                 RespiratoryRate           Oura\n",
       "264314               BodyFatPercentage         Renpho\n",
       "264397                    LeanBodyMass         Renpho\n",
       "345810                       StepCount         iPhone\n",
       "345813                       StepCount           Oura\n",
       "349870                       StepCount  CASIO WATCHES\n",
       "445836          DistanceWalkingRunning         iPhone\n",
       "447165          DistanceWalkingRunning      Runkeeper\n",
       "486609               BasalEnergyBurned         iPhone\n",
       "487171               BasalEnergyBurned         Renpho\n",
       "578851              ActiveEnergyBurned         iPhone\n",
       "578853              ActiveEnergyBurned           Oura\n",
       "593001              ActiveEnergyBurned      Runkeeper\n",
       "601587                  FlightsClimbed         iPhone\n",
       "601840                 DietaryFatTotal   MyFitnessPal\n",
       "602051       DietaryFatPolyunsaturated   MyFitnessPal\n",
       "602262       DietaryFatMonounsaturated   MyFitnessPal\n",
       "602473             DietaryFatSaturated   MyFitnessPal\n",
       "602684              DietaryCholesterol   MyFitnessPal\n",
       "602895                   DietarySodium   MyFitnessPal\n",
       "603106            DietaryCarbohydrates   MyFitnessPal\n",
       "603317                    DietaryFiber   MyFitnessPal\n",
       "603528                    DietarySugar   MyFitnessPal\n",
       "603739           DietaryEnergyConsumed   MyFitnessPal\n",
       "603950                  DietaryProtein   MyFitnessPal\n",
       "604161                 DietaryVitaminC   MyFitnessPal\n",
       "604372                  DietaryCalcium   MyFitnessPal\n",
       "604583                     DietaryIron   MyFitnessPal\n",
       "604794                DietaryPotassium   MyFitnessPal\n",
       "630503          HeadphoneAudioExposure         iPhone\n",
       "663674  WalkingDoubleSupportPercentage         iPhone\n",
       "701676                    WalkingSpeed         iPhone\n",
       "739883               WalkingStepLength         iPhone\n",
       "762456      WalkingAsymmetryPercentage         iPhone\n",
       "763650          AppleWalkingSteadiness         iPhone\n",
       "790702                   SleepAnalysis           Oura\n",
       "798647                  MindfulSession             TM"
      ]
     },
     "execution_count": 20,
     "metadata": {},
     "output_type": "execute_result"
    }
   ],
   "source": [
    "subset_data.drop_duplicates(subset=['type', 'sourceName'])[['type', 'sourceName']]"
   ]
  },
  {
   "cell_type": "code",
   "execution_count": null,
   "metadata": {},
   "outputs": [
    {
     "name": "stderr",
     "output_type": "stream",
     "text": [
      "C:\\Users\\alexf\\AppData\\Local\\Temp\\ipykernel_37296\\2969117591.py:7: SettingWithCopyWarning: \n",
      "A value is trying to be set on a copy of a slice from a DataFrame.\n",
      "Try using .loc[row_indexer,col_indexer] = value instead\n",
      "\n",
      "See the caveats in the documentation: https://pandas.pydata.org/pandas-docs/stable/user_guide/indexing.html#returning-a-view-versus-a-copy\n",
      "  body_bf_data['value'] = body_bf_data['value'] * 100\n"
     ]
    },
    {
     "data": {
      "image/png": "[encoded data removed]",
      "text/plain": [
       "<Figure size 1200x600 with 2 Axes>"
      ]
     },
     "metadata": {},
     "output_type": "display_data"
    }
   ],
   "source": [
    "import matplotlib.pyplot as plt\n",
    "from matplotlib.ticker import PercentFormatter\n",
    "\n",
    "# Display Body Mass and Body Fat Percentage over time\n",
    "body_mass_data = subset_data[subset_data['type'] == 'BodyMass']\n",
    "body_bf_data = subset_data[subset_data['type'] == 'BodyFatPercentage']\n",
    "body_bf_data['value'] = body_bf_data['value'] * 100\n",
    "\n",
    "body_mass_data = body_mass_data[body_mass_data['sourceName'] == 'Renpho']\n",
    "\n",
    "# Set the figure size\n",
    "fig, ax1 = plt.figure(figsize=(12, 6)), plt.gca()  # Width: 12 inches, Height: 6 inches\n",
    "\n",
    "# Create line graph for BodyMass on the primary y-axis\n",
    "ax1.plot(body_mass_data['startDate'], body_mass_data['value'], marker='.', label='Body Mass', color='#2563eb')\n",
    "ax1.set_xlabel('Creation Date')\n",
    "ax1.set_ylabel('Body Mass (lbs)', color='#2563eb')\n",
    "ax1.tick_params(axis='y', labelcolor='#2563eb')\n",
    "\n",
    "# Create a secondary y-axis for BodyFatPercentage\n",
    "ax2 = ax1.twinx()\n",
    "ax2.plot(body_bf_data['startDate'], body_bf_data['value'], marker='.', label='Body Fat Percentage', color='#dc2626')\n",
    "ax2.set_ylabel('Body Fat %', color='#dc2626')\n",
    "ax2.tick_params(axis='y', labelcolor='#dc2626')\n",
    "\n",
    "# Format the secondary y-axis labels as percentages\n",
    "ax2.yaxis.set_major_formatter(PercentFormatter(xmax=100, decimals=0))\n",
    "\n",
    "# Add title\n",
    "plt.title('Body Mass and Body Fat Percentage over Time')\n",
    "plt.xticks(rotation=45)\n",
    "\n",
    "# Combine legends from both axes and place it below the x-axis\n",
    "lines_1, labels_1 = ax1.get_legend_handles_labels()\n",
    "lines_2, labels_2 = ax2.get_legend_handles_labels()\n",
    "plt.legend(lines_1 + lines_2, labels_1 + labels_2, loc='upper center', bbox_to_anchor=(0.5, -0.1))\n",
    "\n",
    "# Show plot\n",
    "plt.show()"
   ]
  },
  {
   "cell_type": "code",
   "execution_count": null,
   "metadata": {},
   "outputs": [
    {
     "data": {
      "text/plain": [
       "array(['HeartRate', 'RespiratoryRate', 'StepCount', 'ActiveEnergyBurned',\n",
       "       'SleepAnalysis'], dtype=object)"
      ]
     },
     "execution_count": 22,
     "metadata": {},
     "output_type": "execute_result"
    }
   ],
   "source": [
    "subset_data[subset_data['sourceName'] == 'Oura']['type'].unique()"
   ]
  },
  {
   "cell_type": "code",
   "execution_count": null,
   "metadata": {},
   "outputs": [
    {
     "data": {
      "application/vnd.microsoft.datawrangler.viewer.v0+json": {
       "columns": [
        {
         "name": "index",
         "rawType": "int64",
         "type": "integer"
        },
        {
         "name": "type",
         "rawType": "object",
         "type": "string"
        },
        {
         "name": "sourceName",
         "rawType": "object",
         "type": "string"
        },
        {
         "name": "sourceVersion",
         "rawType": "object",
         "type": "string"
        },
        {
         "name": "unit",
         "rawType": "object",
         "type": "string"
        },
        {
         "name": "creationDate",
         "rawType": "datetime64[ns, UTC-04:00]",
         "type": "unknown"
        },
        {
         "name": "startDate",
         "rawType": "datetime64[ns, UTC-04:00]",
         "type": "unknown"
        },
        {
         "name": "endDate",
         "rawType": "datetime64[ns, UTC-04:00]",
         "type": "unknown"
        },
        {
         "name": "value",
         "rawType": "float64",
         "type": "float"
        },
        {
         "name": "device",
         "rawType": "object",
         "type": "unknown"
        }
       ],
       "ref": "5a33f8fa-9ea3-4f84-a2c5-3275ae8ccde7",
       "rows": [
        [
         "578853",
         "ActiveEnergyBurned",
         "Oura",
         "2502051542",
         "Cal",
         "2025-03-01 05:06:23-04:00",
         "2025-02-28 05:41:00-04:00",
         "2025-02-28 05:41:00-04:00",
         "0.602",
         null
        ],
        [
         "578854",
         "ActiveEnergyBurned",
         "Oura",
         "2502051542",
         "Cal",
         "2025-03-01 05:06:23-04:00",
         "2025-02-28 05:43:00-04:00",
         "2025-02-28 05:43:00-04:00",
         "2.501",
         null
        ],
        [
         "578855",
         "ActiveEnergyBurned",
         "Oura",
         "2502051542",
         "Cal",
         "2025-03-01 05:06:23-04:00",
         "2025-02-28 09:07:00-04:00",
         "2025-02-28 09:07:00-04:00",
         "1.343",
         null
        ],
        [
         "578856",
         "ActiveEnergyBurned",
         "Oura",
         "2502051542",
         "Cal",
         "2025-03-01 05:06:23-04:00",
         "2025-02-28 09:08:00-04:00",
         "2025-02-28 09:08:00-04:00",
         "0.602",
         null
        ],
        [
         "578857",
         "ActiveEnergyBurned",
         "Oura",
         "2502051542",
         "Cal",
         "2025-03-01 05:06:23-04:00",
         "2025-02-28 09:20:00-04:00",
         "2025-02-28 09:20:00-04:00",
         "2.686",
         null
        ],
        [
         "578858",
         "ActiveEnergyBurned",
         "Oura",
         "2502051542",
         "Cal",
         "2025-03-01 05:06:23-04:00",
         "2025-02-28 09:21:00-04:00",
         "2025-02-28 09:21:00-04:00",
         "3.103",
         null
        ],
        [
         "578859",
         "ActiveEnergyBurned",
         "Oura",
         "2502051542",
         "Cal",
         "2025-03-01 05:06:23-04:00",
         "2025-02-28 09:22:00-04:00",
         "2025-02-28 09:22:00-04:00",
         "2.964",
         null
        ],
        [
         "578860",
         "ActiveEnergyBurned",
         "Oura",
         "2502051542",
         "Cal",
         "2025-03-01 05:06:23-04:00",
         "2025-02-28 09:30:00-04:00",
         "2025-02-28 09:30:00-04:00",
         "0.278",
         null
        ],
        [
         "578861",
         "ActiveEnergyBurned",
         "Oura",
         "2502051542",
         "Cal",
         "2025-03-01 05:06:23-04:00",
         "2025-02-28 09:36:00-04:00",
         "2025-02-28 09:36:00-04:00",
         "1.945",
         null
        ],
        [
         "578862",
         "ActiveEnergyBurned",
         "Oura",
         "2502051542",
         "Cal",
         "2025-03-01 05:06:23-04:00",
         "2025-02-28 09:44:00-04:00",
         "2025-02-28 09:44:00-04:00",
         "0.139",
         null
        ],
        [
         "578863",
         "ActiveEnergyBurned",
         "Oura",
         "2502051542",
         "Cal",
         "2025-03-01 05:06:23-04:00",
         "2025-02-28 09:45:00-04:00",
         "2025-02-28 09:45:00-04:00",
         "2.501",
         null
        ],
        [
         "578864",
         "ActiveEnergyBurned",
         "Oura",
         "2502051542",
         "Cal",
         "2025-03-01 05:06:23-04:00",
         "2025-02-28 09:46:00-04:00",
         "2025-02-28 09:46:00-04:00",
         "3.103",
         null
        ],
        [
         "578865",
         "ActiveEnergyBurned",
         "Oura",
         "2502051542",
         "Cal",
         "2025-03-01 05:06:23-04:00",
         "2025-02-28 09:47:00-04:00",
         "2025-02-28 09:47:00-04:00",
         "0.139",
         null
        ],
        [
         "578866",
         "ActiveEnergyBurned",
         "Oura",
         "2502051542",
         "Cal",
         "2025-03-01 05:06:23-04:00",
         "2025-02-28 10:12:00-04:00",
         "2025-02-28 10:12:00-04:00",
         "1.204",
         null
        ],
        [
         "578867",
         "ActiveEnergyBurned",
         "Oura",
         "2502051542",
         "Cal",
         "2025-03-01 05:06:23-04:00",
         "2025-02-28 10:13:00-04:00",
         "2025-02-28 10:13:00-04:00",
         "2.964",
         null
        ],
        [
         "578868",
         "ActiveEnergyBurned",
         "Oura",
         "2502051542",
         "Cal",
         "2025-03-01 05:06:23-04:00",
         "2025-02-28 10:43:00-04:00",
         "2025-02-28 10:43:00-04:00",
         "2.964",
         null
        ],
        [
         "578869",
         "ActiveEnergyBurned",
         "Oura",
         "2502051542",
         "Cal",
         "2025-03-01 05:06:23-04:00",
         "2025-02-28 10:44:00-04:00",
         "2025-02-28 10:44:00-04:00",
         "1.019",
         null
        ],
        [
         "578870",
         "ActiveEnergyBurned",
         "Oura",
         "2502051542",
         "Cal",
         "2025-03-01 05:06:23-04:00",
         "2025-02-28 10:45:00-04:00",
         "2025-02-28 10:45:00-04:00",
         "0.463",
         null
        ],
        [
         "578871",
         "ActiveEnergyBurned",
         "Oura",
         "2502051542",
         "Cal",
         "2025-03-01 05:06:23-04:00",
         "2025-02-28 10:46:00-04:00",
         "2025-02-28 10:46:00-04:00",
         "0.741",
         null
        ],
        [
         "578872",
         "ActiveEnergyBurned",
         "Oura",
         "2502051542",
         "Cal",
         "2025-03-01 05:06:23-04:00",
         "2025-02-28 10:56:00-04:00",
         "2025-02-28 10:56:00-04:00",
         "0.602",
         null
        ],
        [
         "578873",
         "ActiveEnergyBurned",
         "Oura",
         "2502051542",
         "Cal",
         "2025-03-01 05:06:23-04:00",
         "2025-02-28 11:08:00-04:00",
         "2025-02-28 11:08:00-04:00",
         "0.278",
         null
        ],
        [
         "578874",
         "ActiveEnergyBurned",
         "Oura",
         "2502051542",
         "Cal",
         "2025-03-01 05:06:23-04:00",
         "2025-02-28 11:11:00-04:00",
         "2025-02-28 11:11:00-04:00",
         "3.103",
         null
        ],
        [
         "578875",
         "ActiveEnergyBurned",
         "Oura",
         "2502051542",
         "Cal",
         "2025-03-01 05:06:23-04:00",
         "2025-02-28 11:26:00-04:00",
         "2025-02-28 11:26:00-04:00",
         "0.463",
         null
        ],
        [
         "578876",
         "ActiveEnergyBurned",
         "Oura",
         "2502051542",
         "Cal",
         "2025-03-01 05:06:23-04:00",
         "2025-02-28 11:27:00-04:00",
         "2025-02-28 11:27:00-04:00",
         "1.621",
         null
        ],
        [
         "578877",
         "ActiveEnergyBurned",
         "Oura",
         "2502051542",
         "Cal",
         "2025-03-01 05:06:23-04:00",
         "2025-02-28 11:31:00-04:00",
         "2025-02-28 11:31:00-04:00",
         "1.343",
         null
        ],
        [
         "578878",
         "ActiveEnergyBurned",
         "Oura",
         "2502051542",
         "Cal",
         "2025-03-01 05:06:23-04:00",
         "2025-02-28 11:32:00-04:00",
         "2025-02-28 11:32:00-04:00",
         "0.278",
         null
        ],
        [
         "578879",
         "ActiveEnergyBurned",
         "Oura",
         "2502051542",
         "Cal",
         "2025-03-01 05:06:23-04:00",
         "2025-02-28 12:34:00-04:00",
         "2025-02-28 12:34:00-04:00",
         "0.139",
         null
        ],
        [
         "578880",
         "ActiveEnergyBurned",
         "Oura",
         "2502051542",
         "Cal",
         "2025-03-01 05:06:23-04:00",
         "2025-02-28 12:35:00-04:00",
         "2025-02-28 12:35:00-04:00",
         "0.139",
         null
        ],
        [
         "578881",
         "ActiveEnergyBurned",
         "Oura",
         "2502051542",
         "Cal",
         "2025-03-01 05:06:23-04:00",
         "2025-02-28 12:40:00-04:00",
         "2025-02-28 12:40:00-04:00",
         "0.278",
         null
        ],
        [
         "578882",
         "ActiveEnergyBurned",
         "Oura",
         "2502051542",
         "Cal",
         "2025-03-01 05:06:23-04:00",
         "2025-02-28 12:43:00-04:00",
         "2025-02-28 12:43:00-04:00",
         "0.139",
         null
        ],
        [
         "578883",
         "ActiveEnergyBurned",
         "Oura",
         "2502051542",
         "Cal",
         "2025-03-01 05:06:23-04:00",
         "2025-02-28 12:44:00-04:00",
         "2025-02-28 12:44:00-04:00",
         "0.602",
         null
        ],
        [
         "578884",
         "ActiveEnergyBurned",
         "Oura",
         "2502051542",
         "Cal",
         "2025-03-01 05:06:23-04:00",
         "2025-02-28 13:17:00-04:00",
         "2025-02-28 13:17:00-04:00",
         "2.964",
         null
        ],
        [
         "578885",
         "ActiveEnergyBurned",
         "Oura",
         "2502051542",
         "Cal",
         "2025-03-01 05:06:23-04:00",
         "2025-02-28 13:18:00-04:00",
         "2025-02-28 13:18:00-04:00",
         "3.242",
         null
        ],
        [
         "578886",
         "ActiveEnergyBurned",
         "Oura",
         "2502051542",
         "Cal",
         "2025-03-01 05:06:23-04:00",
         "2025-02-28 13:27:00-04:00",
         "2025-02-28 13:27:00-04:00",
         "1.76",
         null
        ],
        [
         "578887",
         "ActiveEnergyBurned",
         "Oura",
         "2502051542",
         "Cal",
         "2025-03-01 05:06:23-04:00",
         "2025-02-28 13:28:00-04:00",
         "2025-02-28 13:28:00-04:00",
         "2.501",
         null
        ],
        [
         "578888",
         "ActiveEnergyBurned",
         "Oura",
         "2502051542",
         "Cal",
         "2025-03-01 05:06:23-04:00",
         "2025-02-28 13:41:00-04:00",
         "2025-02-28 13:41:00-04:00",
         "0.463",
         null
        ],
        [
         "578889",
         "ActiveEnergyBurned",
         "Oura",
         "2502051542",
         "Cal",
         "2025-03-01 05:06:23-04:00",
         "2025-02-28 14:57:00-04:00",
         "2025-02-28 14:57:00-04:00",
         "0.463",
         null
        ],
        [
         "578890",
         "ActiveEnergyBurned",
         "Oura",
         "2502051542",
         "Cal",
         "2025-03-01 05:06:23-04:00",
         "2025-02-28 14:59:00-04:00",
         "2025-02-28 14:59:00-04:00",
         "0.463",
         null
        ],
        [
         "578891",
         "ActiveEnergyBurned",
         "Oura",
         "2502051542",
         "Cal",
         "2025-03-01 05:06:23-04:00",
         "2025-02-28 15:02:00-04:00",
         "2025-02-28 15:02:00-04:00",
         "2.501",
         null
        ],
        [
         "578892",
         "ActiveEnergyBurned",
         "Oura",
         "2502051542",
         "Cal",
         "2025-03-01 05:06:23-04:00",
         "2025-02-28 15:05:00-04:00",
         "2025-02-28 15:05:00-04:00",
         "0.278",
         null
        ],
        [
         "578893",
         "ActiveEnergyBurned",
         "Oura",
         "2502051542",
         "Cal",
         "2025-03-01 05:06:23-04:00",
         "2025-02-28 15:06:00-04:00",
         "2025-02-28 15:06:00-04:00",
         "0.139",
         null
        ],
        [
         "578894",
         "ActiveEnergyBurned",
         "Oura",
         "2502051542",
         "Cal",
         "2025-03-01 05:06:23-04:00",
         "2025-02-28 15:07:00-04:00",
         "2025-02-28 15:07:00-04:00",
         "4.168",
         null
        ],
        [
         "578895",
         "ActiveEnergyBurned",
         "Oura",
         "2502051542",
         "Cal",
         "2025-03-01 05:06:23-04:00",
         "2025-02-28 15:13:00-04:00",
         "2025-02-28 15:13:00-04:00",
         "1.204",
         null
        ],
        [
         "578896",
         "ActiveEnergyBurned",
         "Oura",
         "2502051542",
         "Cal",
         "2025-03-01 05:06:23-04:00",
         "2025-02-28 15:14:00-04:00",
         "2025-02-28 15:14:00-04:00",
         "1.482",
         null
        ],
        [
         "578897",
         "ActiveEnergyBurned",
         "Oura",
         "2502051542",
         "Cal",
         "2025-03-01 05:06:23-04:00",
         "2025-02-28 15:15:00-04:00",
         "2025-02-28 15:15:00-04:00",
         "1.76",
         null
        ],
        [
         "578898",
         "ActiveEnergyBurned",
         "Oura",
         "2502051542",
         "Cal",
         "2025-03-01 05:06:23-04:00",
         "2025-02-28 15:16:00-04:00",
         "2025-02-28 15:16:00-04:00",
         "1.621",
         null
        ],
        [
         "578899",
         "ActiveEnergyBurned",
         "Oura",
         "2502051542",
         "Cal",
         "2025-03-01 05:06:23-04:00",
         "2025-02-28 15:17:00-04:00",
         "2025-02-28 15:17:00-04:00",
         "2.223",
         null
        ],
        [
         "578900",
         "ActiveEnergyBurned",
         "Oura",
         "2502051542",
         "Cal",
         "2025-03-01 05:06:23-04:00",
         "2025-02-28 15:18:00-04:00",
         "2025-02-28 15:18:00-04:00",
         "0.602",
         null
        ],
        [
         "578901",
         "ActiveEnergyBurned",
         "Oura",
         "2502051542",
         "Cal",
         "2025-03-01 05:06:23-04:00",
         "2025-02-28 15:19:00-04:00",
         "2025-02-28 15:19:00-04:00",
         "0.278",
         null
        ],
        [
         "578902",
         "ActiveEnergyBurned",
         "Oura",
         "2502051542",
         "Cal",
         "2025-03-01 05:06:23-04:00",
         "2025-02-28 15:20:00-04:00",
         "2025-02-28 15:20:00-04:00",
         "0.463",
         null
        ]
       ],
       "shape": {
        "columns": 9,
        "rows": 13671
       }
      },
      "text/html": [
       "<div>\n",
       "<style scoped>\n",
       "    .dataframe tbody tr th:only-of-type {\n",
       "        vertical-align: middle;\n",
       "    }\n",
       "\n",
       "    .dataframe tbody tr th {\n",
       "        vertical-align: top;\n",
       "    }\n",
       "\n",
       "    .dataframe thead th {\n",
       "        text-align: right;\n",
       "    }\n",
       "</style>\n",
       "<table border=\"1\" class=\"dataframe\">\n",
       "  <thead>\n",
       "    <tr style=\"text-align: right;\">\n",
       "      <th></th>\n",
       "      <th>type</th>\n",
       "      <th>sourceName</th>\n",
       "      <th>sourceVersion</th>\n",
       "      <th>unit</th>\n",
       "      <th>creationDate</th>\n",
       "      <th>startDate</th>\n",
       "      <th>endDate</th>\n",
       "      <th>value</th>\n",
       "      <th>device</th>\n",
       "    </tr>\n",
       "  </thead>\n",
       "  <tbody>\n",
       "    <tr>\n",
       "      <th>578853</th>\n",
       "      <td>ActiveEnergyBurned</td>\n",
       "      <td>Oura</td>\n",
       "      <td>2502051542</td>\n",
       "      <td>Cal</td>\n",
       "      <td>2025-03-01 05:06:23-04:00</td>\n",
       "      <td>2025-02-28 05:41:00-04:00</td>\n",
       "      <td>2025-02-28 05:41:00-04:00</td>\n",
       "      <td>0.602</td>\n",
       "      <td>NaN</td>\n",
       "    </tr>\n",
       "    <tr>\n",
       "      <th>578854</th>\n",
       "      <td>ActiveEnergyBurned</td>\n",
       "      <td>Oura</td>\n",
       "      <td>2502051542</td>\n",
       "      <td>Cal</td>\n",
       "      <td>2025-03-01 05:06:23-04:00</td>\n",
       "      <td>2025-02-28 05:43:00-04:00</td>\n",
       "      <td>2025-02-28 05:43:00-04:00</td>\n",
       "      <td>2.501</td>\n",
       "      <td>NaN</td>\n",
       "    </tr>\n",
       "    <tr>\n",
       "      <th>578855</th>\n",
       "      <td>ActiveEnergyBurned</td>\n",
       "      <td>Oura</td>\n",
       "      <td>2502051542</td>\n",
       "      <td>Cal</td>\n",
       "      <td>2025-03-01 05:06:23-04:00</td>\n",
       "      <td>2025-02-28 09:07:00-04:00</td>\n",
       "      <td>2025-02-28 09:07:00-04:00</td>\n",
       "      <td>1.343</td>\n",
       "      <td>NaN</td>\n",
       "    </tr>\n",
       "    <tr>\n",
       "      <th>578856</th>\n",
       "      <td>ActiveEnergyBurned</td>\n",
       "      <td>Oura</td>\n",
       "      <td>2502051542</td>\n",
       "      <td>Cal</td>\n",
       "      <td>2025-03-01 05:06:23-04:00</td>\n",
       "      <td>2025-02-28 09:08:00-04:00</td>\n",
       "      <td>2025-02-28 09:08:00-04:00</td>\n",
       "      <td>0.602</td>\n",
       "      <td>NaN</td>\n",
       "    </tr>\n",
       "    <tr>\n",
       "      <th>578857</th>\n",
       "      <td>ActiveEnergyBurned</td>\n",
       "      <td>Oura</td>\n",
       "      <td>2502051542</td>\n",
       "      <td>Cal</td>\n",
       "      <td>2025-03-01 05:06:23-04:00</td>\n",
       "      <td>2025-02-28 09:20:00-04:00</td>\n",
       "      <td>2025-02-28 09:20:00-04:00</td>\n",
       "      <td>2.686</td>\n",
       "      <td>NaN</td>\n",
       "    </tr>\n",
       "    <tr>\n",
       "      <th>...</th>\n",
       "      <td>...</td>\n",
       "      <td>...</td>\n",
       "      <td>...</td>\n",
       "      <td>...</td>\n",
       "      <td>...</td>\n",
       "      <td>...</td>\n",
       "      <td>...</td>\n",
       "      <td>...</td>\n",
       "      <td>...</td>\n",
       "    </tr>\n",
       "    <tr>\n",
       "      <th>593755</th>\n",
       "      <td>ActiveEnergyBurned</td>\n",
       "      <td>Oura</td>\n",
       "      <td>2504221109</td>\n",
       "      <td>Cal</td>\n",
       "      <td>2025-04-29 07:51:11-04:00</td>\n",
       "      <td>2025-04-29 00:55:00-04:00</td>\n",
       "      <td>2025-04-29 00:55:00-04:00</td>\n",
       "      <td>0.142</td>\n",
       "      <td>NaN</td>\n",
       "    </tr>\n",
       "    <tr>\n",
       "      <th>593756</th>\n",
       "      <td>ActiveEnergyBurned</td>\n",
       "      <td>Oura</td>\n",
       "      <td>2504221109</td>\n",
       "      <td>Cal</td>\n",
       "      <td>2025-04-29 07:51:11-04:00</td>\n",
       "      <td>2025-04-29 03:25:00-04:00</td>\n",
       "      <td>2025-04-29 03:25:00-04:00</td>\n",
       "      <td>0.285</td>\n",
       "      <td>NaN</td>\n",
       "    </tr>\n",
       "    <tr>\n",
       "      <th>593757</th>\n",
       "      <td>ActiveEnergyBurned</td>\n",
       "      <td>Oura</td>\n",
       "      <td>2504221109</td>\n",
       "      <td>Cal</td>\n",
       "      <td>2025-04-29 07:51:11-04:00</td>\n",
       "      <td>2025-04-29 03:26:00-04:00</td>\n",
       "      <td>2025-04-29 03:26:00-04:00</td>\n",
       "      <td>0.285</td>\n",
       "      <td>NaN</td>\n",
       "    </tr>\n",
       "    <tr>\n",
       "      <th>593758</th>\n",
       "      <td>ActiveEnergyBurned</td>\n",
       "      <td>Oura</td>\n",
       "      <td>2504221109</td>\n",
       "      <td>Cal</td>\n",
       "      <td>2025-04-29 07:51:11-04:00</td>\n",
       "      <td>2025-04-29 03:28:00-04:00</td>\n",
       "      <td>2025-04-29 03:28:00-04:00</td>\n",
       "      <td>2.277</td>\n",
       "      <td>NaN</td>\n",
       "    </tr>\n",
       "    <tr>\n",
       "      <th>593759</th>\n",
       "      <td>ActiveEnergyBurned</td>\n",
       "      <td>Oura</td>\n",
       "      <td>2504221109</td>\n",
       "      <td>Cal</td>\n",
       "      <td>2025-04-29 07:51:11-04:00</td>\n",
       "      <td>2025-04-29 03:29:00-04:00</td>\n",
       "      <td>2025-04-29 03:29:00-04:00</td>\n",
       "      <td>0.285</td>\n",
       "      <td>NaN</td>\n",
       "    </tr>\n",
       "  </tbody>\n",
       "</table>\n",
       "<p>13671 rows × 9 columns</p>\n",
       "</div>"
      ],
      "text/plain": [
       "                      type sourceName sourceVersion unit  \\\n",
       "578853  ActiveEnergyBurned       Oura    2502051542  Cal   \n",
       "578854  ActiveEnergyBurned       Oura    2502051542  Cal   \n",
       "578855  ActiveEnergyBurned       Oura    2502051542  Cal   \n",
       "578856  ActiveEnergyBurned       Oura    2502051542  Cal   \n",
       "578857  ActiveEnergyBurned       Oura    2502051542  Cal   \n",
       "...                    ...        ...           ...  ...   \n",
       "593755  ActiveEnergyBurned       Oura    2504221109  Cal   \n",
       "593756  ActiveEnergyBurned       Oura    2504221109  Cal   \n",
       "593757  ActiveEnergyBurned       Oura    2504221109  Cal   \n",
       "593758  ActiveEnergyBurned       Oura    2504221109  Cal   \n",
       "593759  ActiveEnergyBurned       Oura    2504221109  Cal   \n",
       "\n",
       "                    creationDate                 startDate  \\\n",
       "578853 2025-03-01 05:06:23-04:00 2025-02-28 05:41:00-04:00   \n",
       "578854 2025-03-01 05:06:23-04:00 2025-02-28 05:43:00-04:00   \n",
       "578855 2025-03-01 05:06:23-04:00 2025-02-28 09:07:00-04:00   \n",
       "578856 2025-03-01 05:06:23-04:00 2025-02-28 09:08:00-04:00   \n",
       "578857 2025-03-01 05:06:23-04:00 2025-02-28 09:20:00-04:00   \n",
       "...                          ...                       ...   \n",
       "593755 2025-04-29 07:51:11-04:00 2025-04-29 00:55:00-04:00   \n",
       "593756 2025-04-29 07:51:11-04:00 2025-04-29 03:25:00-04:00   \n",
       "593757 2025-04-29 07:51:11-04:00 2025-04-29 03:26:00-04:00   \n",
       "593758 2025-04-29 07:51:11-04:00 2025-04-29 03:28:00-04:00   \n",
       "593759 2025-04-29 07:51:11-04:00 2025-04-29 03:29:00-04:00   \n",
       "\n",
       "                         endDate  value device  \n",
       "578853 2025-02-28 05:41:00-04:00  0.602    NaN  \n",
       "578854 2025-02-28 05:43:00-04:00  2.501    NaN  \n",
       "578855 2025-02-28 09:07:00-04:00  1.343    NaN  \n",
       "578856 2025-02-28 09:08:00-04:00  0.602    NaN  \n",
       "578857 2025-02-28 09:20:00-04:00  2.686    NaN  \n",
       "...                          ...    ...    ...  \n",
       "593755 2025-04-29 00:55:00-04:00  0.142    NaN  \n",
       "593756 2025-04-29 03:25:00-04:00  0.285    NaN  \n",
       "593757 2025-04-29 03:26:00-04:00  0.285    NaN  \n",
       "593758 2025-04-29 03:28:00-04:00  2.277    NaN  \n",
       "593759 2025-04-29 03:29:00-04:00  0.285    NaN  \n",
       "\n",
       "[13671 rows x 9 columns]"
      ]
     },
     "execution_count": 23,
     "metadata": {},
     "output_type": "execute_result"
    }
   ],
   "source": [
    "subset_data[(subset_data['sourceName'] == 'Oura') & (subset_data['type'] == 'ActiveEnergyBurned')]"
   ]
  },
  {
   "cell_type": "code",
   "execution_count": null,
   "metadata": {},
   "outputs": [
    {
     "name": "stderr",
     "output_type": "stream",
     "text": [
      "C:\\Users\\alexf\\AppData\\Local\\Temp\\ipykernel_37296\\697328171.py:5: SettingWithCopyWarning: \n",
      "A value is trying to be set on a copy of a slice from a DataFrame.\n",
      "Try using .loc[row_indexer,col_indexer] = value instead\n",
      "\n",
      "See the caveats in the documentation: https://pandas.pydata.org/pandas-docs/stable/user_guide/indexing.html#returning-a-view-versus-a-copy\n",
      "  oura_energy_burned['creationDate'] = pd.to_datetime(oura_energy_burned['creationDate'])\n"
     ]
    },
    {
     "data": {
      "image/png": "[encoded data removed]",
      "text/plain": [
       "<Figure size 1200x600 with 1 Axes>"
      ]
     },
     "metadata": {},
     "output_type": "display_data"
    }
   ],
   "source": [
    "# Filter for 'sourceName'='Oura' and 'type'='ActiveEnergyBurned'\n",
    "oura_energy_burned = subset_data[(subset_data['sourceName'] == 'Oura') & (subset_data['type'] == 'ActiveEnergyBurned')]\n",
    "\n",
    "# Convert 'startDate' to datetime\n",
    "oura_energy_burned['startDate'] = pd.to_datetime(oura_energy_burned['startDate'])\n",
    "\n",
    "# Aggregate data by day\n",
    "daily_totals = oura_energy_burned.groupby(oura_energy_burned['startDate'].dt.date)['value'].sum().reset_index()\n",
    "\n",
    "# Rename columns for clarity\n",
    "daily_totals.columns = ['Date', 'TotalCaloriesBurned']\n",
    "\n",
    "# Set 'startDate' as the index for resampling\n",
    "oura_energy_burned.set_index('startDate', inplace=True)\n",
    "\n",
    "# Resample data by week and sum the 'value' column to get weekly totals\n",
    "weekly_totals = oura_energy_burned['value'].resample('W').sum().reset_index()\n",
    "\n",
    "# Rename columns for clarity\n",
    "weekly_totals.columns = ['Week', 'TotalCaloriesBurned']\n",
    "\n",
    "# Plot the daily totals\n",
    "plt.figure(figsize=(12, 6))\n",
    "plt.plot(daily_totals['Date'], daily_totals['TotalCaloriesBurned'], marker='.', color='#ea580c')\n",
    "plt.plot(weekly_totals['Week'], weekly_totals['TotalCaloriesBurned'], marker='.', color='#f97316')\n",
    "plt.xlabel('Date')\n",
    "plt.ylabel('Total Calories Burned')\n",
    "plt.title('Daily Total Calories Burned')\n",
    "plt.xticks(rotation=45)\n",
    "\n",
    "# Add a legend\n",
    "plt.legend(['Daily Calories Burned', 'Weekly Calories Burned'], loc='upper center', bbox_to_anchor=(0.5, -0.2), ncol=2)\n",
    "\n",
    "# Show plot\n",
    "plt.show()"
   ]
  },
  {
   "cell_type": "code",
   "execution_count": null,
   "metadata": {},
   "outputs": [
    {
     "name": "stderr",
     "output_type": "stream",
     "text": [
      "C:\\Users\\alexf\\AppData\\Local\\Temp\\ipykernel_37296\\2634946248.py:5: SettingWithCopyWarning: \n",
      "A value is trying to be set on a copy of a slice from a DataFrame.\n",
      "Try using .loc[row_indexer,col_indexer] = value instead\n",
      "\n",
      "See the caveats in the documentation: https://pandas.pydata.org/pandas-docs/stable/user_guide/indexing.html#returning-a-view-versus-a-copy\n",
      "  mfp_calories['creationDate'] = pd.to_datetime(mfp_calories['creationDate'])\n"
     ]
    },
    {
     "data": {
      "image/png": "[encoded data removed]",
      "text/plain": [
       "<Figure size 1200x600 with 1 Axes>"
      ]
     },
     "metadata": {},
     "output_type": "display_data"
    }
   ],
   "source": [
    "# Filter for 'sourceName'='Oura' and 'type'='ActiveEnergyBurned'\n",
    "mfp_calories = subset_data[subset_data['type'] == 'DietaryEnergyConsumed']\n",
    "\n",
    "# Convert 'startDate' to datetime\n",
    "mfp_calories['startDate'] = pd.to_datetime(mfp_calories['startDate'])\n",
    "# Aggregate data by day\n",
    "daily_totals = mfp_calories.groupby(mfp_calories['startDate'].dt.date)['value'].sum().reset_index()\n",
    "\n",
    "# Rename columns for clarity\n",
    "daily_totals.columns = ['Date', 'TotalCaloriesConsumed']\n",
    "\n",
    "# Plot the daily totals\n",
    "plt.figure(figsize=(12, 6))\n",
    "plt.plot(daily_totals['Date'], daily_totals['TotalCaloriesConsumed'], marker='.', color='#ea580c')\n",
    "plt.xlabel('Date')\n",
    "plt.ylabel('Total Calories Consumed')\n",
    "plt.title('Daily Total Calories Consumed')\n",
    "plt.xticks(rotation=45)\n",
    "\n",
    "# Show plot\n",
    "plt.show()"
   ]
  },
  {
   "cell_type": "code",
   "execution_count": null,
   "metadata": {},
   "outputs": [],
   "source": [
    "subset_data.to_csv(r'processed data\\apple_data_subset.csv', index=False)"
   ]
  }
 ],
 "metadata": {
  "kernelspec": {
   "display_name": "myenv",
   "language": "python",
   "name": "python3"
  },
  "language_info": {
   "codemirror_mode": {
    "name": "ipython",
    "version": 3
   },
   "file_extension": ".py",
   "mimetype": "text/x-python",
   "name": "python",
   "nbconvert_exporter": "python",
   "pygments_lexer": "ipython3",
   "version": "3.12.7"
  }
 },
 "nbformat": 4,
 "nbformat_minor": 2
}
